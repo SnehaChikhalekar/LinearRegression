{
 "cells": [
  {
   "cell_type": "code",
   "execution_count": 1,
   "metadata": {},
   "outputs": [],
   "source": [
    "import pandas as pd\n",
    "import numpy as np\n",
    "import math \n",
    "from math import pi,sqrt, cos\n",
    "import matplotlib.pyplot as plt\n",
    "import seaborn as sns\n",
    "%matplotlib inline\n",
    "from sklearn.model_selection import train_test_split\n",
    "from sklearn.linear_model import LinearRegression\n",
    "from sklearn.feature_selection import RFE\n",
    "from sklearn.metrics import r2_score\n",
    "\n",
    "import warnings\n",
    "warnings.filterwarnings(\"ignore\")"
   ]
  },
  {
   "cell_type": "code",
   "execution_count": 49,
   "metadata": {},
   "outputs": [],
   "source": [
    "student_mat=pd.read_csv(\"student-mat.csv\")"
   ]
  },
  {
   "cell_type": "code",
   "execution_count": 97,
   "metadata": {},
   "outputs": [
    {
     "data": {
      "text/plain": [
       "(395, 33)"
      ]
     },
     "execution_count": 97,
     "metadata": {},
     "output_type": "execute_result"
    }
   ],
   "source": [
    "student_mat.shape"
   ]
  },
  {
   "cell_type": "code",
   "execution_count": 50,
   "metadata": {},
   "outputs": [],
   "source": [
    "student_por=pd.read_csv(\"student-por.csv\")"
   ]
  },
  {
   "cell_type": "code",
   "execution_count": 98,
   "metadata": {},
   "outputs": [
    {
     "data": {
      "text/plain": [
       "(649, 33)"
      ]
     },
     "execution_count": 98,
     "metadata": {},
     "output_type": "execute_result"
    }
   ],
   "source": [
    "student_por.shape"
   ]
  },
  {
   "cell_type": "code",
   "execution_count": 51,
   "metadata": {},
   "outputs": [
    {
     "data": {
      "text/plain": [
       "Index(['school', 'sex', 'age', 'address', 'famsize', 'Pstatus', 'Medu', 'Fedu',\n",
       "       'Mjob', 'Fjob', 'reason', 'guardian', 'traveltime', 'studytime',\n",
       "       'failures', 'schoolsup', 'famsup', 'paid', 'activities', 'nursery',\n",
       "       'higher', 'internet', 'romantic', 'famrel', 'freetime', 'goout', 'Dalc',\n",
       "       'Walc', 'health', 'absences', 'G1', 'G2', 'G3'],\n",
       "      dtype='object')"
      ]
     },
     "execution_count": 51,
     "metadata": {},
     "output_type": "execute_result"
    }
   ],
   "source": [
    "student_mat.columns"
   ]
  },
  {
   "cell_type": "code",
   "execution_count": 52,
   "metadata": {},
   "outputs": [
    {
     "data": {
      "text/plain": [
       "Index(['school', 'sex', 'age', 'address', 'famsize', 'Pstatus', 'Medu', 'Fedu',\n",
       "       'Mjob', 'Fjob', 'reason', 'guardian', 'traveltime', 'studytime',\n",
       "       'failures', 'schoolsup', 'famsup', 'paid', 'activities', 'nursery',\n",
       "       'higher', 'internet', 'romantic', 'famrel', 'freetime', 'goout', 'Dalc',\n",
       "       'Walc', 'health', 'absences', 'G1', 'G2', 'G3'],\n",
       "      dtype='object')"
      ]
     },
     "execution_count": 52,
     "metadata": {},
     "output_type": "execute_result"
    }
   ],
   "source": [
    "student_por.columns"
   ]
  },
  {
   "cell_type": "code",
   "execution_count": 300,
   "metadata": {},
   "outputs": [],
   "source": [
    "df=pd.concat([student_mat,student_por])"
   ]
  },
  {
   "cell_type": "code",
   "execution_count": 284,
   "metadata": {},
   "outputs": [
    {
     "data": {
      "text/plain": [
       "(1044, 33)"
      ]
     },
     "execution_count": 284,
     "metadata": {},
     "output_type": "execute_result"
    }
   ],
   "source": [
    "df.shape"
   ]
  },
  {
   "cell_type": "code",
   "execution_count": 134,
   "metadata": {},
   "outputs": [
    {
     "data": {
      "text/html": [
       "<div>\n",
       "<style scoped>\n",
       "    .dataframe tbody tr th:only-of-type {\n",
       "        vertical-align: middle;\n",
       "    }\n",
       "\n",
       "    .dataframe tbody tr th {\n",
       "        vertical-align: top;\n",
       "    }\n",
       "\n",
       "    .dataframe thead th {\n",
       "        text-align: right;\n",
       "    }\n",
       "</style>\n",
       "<table border=\"1\" class=\"dataframe\">\n",
       "  <thead>\n",
       "    <tr style=\"text-align: right;\">\n",
       "      <th></th>\n",
       "      <th>school</th>\n",
       "      <th>sex</th>\n",
       "      <th>age</th>\n",
       "      <th>address</th>\n",
       "      <th>famsize</th>\n",
       "      <th>Pstatus</th>\n",
       "      <th>Medu</th>\n",
       "      <th>Fedu</th>\n",
       "      <th>Mjob</th>\n",
       "      <th>Fjob</th>\n",
       "      <th>...</th>\n",
       "      <th>famrel</th>\n",
       "      <th>freetime</th>\n",
       "      <th>goout</th>\n",
       "      <th>Dalc</th>\n",
       "      <th>Walc</th>\n",
       "      <th>health</th>\n",
       "      <th>absences</th>\n",
       "      <th>G1</th>\n",
       "      <th>G2</th>\n",
       "      <th>G3</th>\n",
       "    </tr>\n",
       "  </thead>\n",
       "  <tbody>\n",
       "    <tr>\n",
       "      <td>0</td>\n",
       "      <td>GP</td>\n",
       "      <td>F</td>\n",
       "      <td>18</td>\n",
       "      <td>U</td>\n",
       "      <td>GT3</td>\n",
       "      <td>A</td>\n",
       "      <td>4</td>\n",
       "      <td>4</td>\n",
       "      <td>at_home</td>\n",
       "      <td>teacher</td>\n",
       "      <td>...</td>\n",
       "      <td>4</td>\n",
       "      <td>3</td>\n",
       "      <td>4</td>\n",
       "      <td>1</td>\n",
       "      <td>1</td>\n",
       "      <td>3</td>\n",
       "      <td>6</td>\n",
       "      <td>5</td>\n",
       "      <td>6</td>\n",
       "      <td>6</td>\n",
       "    </tr>\n",
       "    <tr>\n",
       "      <td>1</td>\n",
       "      <td>GP</td>\n",
       "      <td>F</td>\n",
       "      <td>17</td>\n",
       "      <td>U</td>\n",
       "      <td>GT3</td>\n",
       "      <td>T</td>\n",
       "      <td>1</td>\n",
       "      <td>1</td>\n",
       "      <td>at_home</td>\n",
       "      <td>other</td>\n",
       "      <td>...</td>\n",
       "      <td>5</td>\n",
       "      <td>3</td>\n",
       "      <td>3</td>\n",
       "      <td>1</td>\n",
       "      <td>1</td>\n",
       "      <td>3</td>\n",
       "      <td>4</td>\n",
       "      <td>5</td>\n",
       "      <td>5</td>\n",
       "      <td>6</td>\n",
       "    </tr>\n",
       "    <tr>\n",
       "      <td>2</td>\n",
       "      <td>GP</td>\n",
       "      <td>F</td>\n",
       "      <td>15</td>\n",
       "      <td>U</td>\n",
       "      <td>LE3</td>\n",
       "      <td>T</td>\n",
       "      <td>1</td>\n",
       "      <td>1</td>\n",
       "      <td>at_home</td>\n",
       "      <td>other</td>\n",
       "      <td>...</td>\n",
       "      <td>4</td>\n",
       "      <td>3</td>\n",
       "      <td>2</td>\n",
       "      <td>2</td>\n",
       "      <td>3</td>\n",
       "      <td>3</td>\n",
       "      <td>10</td>\n",
       "      <td>7</td>\n",
       "      <td>8</td>\n",
       "      <td>10</td>\n",
       "    </tr>\n",
       "    <tr>\n",
       "      <td>3</td>\n",
       "      <td>GP</td>\n",
       "      <td>F</td>\n",
       "      <td>15</td>\n",
       "      <td>U</td>\n",
       "      <td>GT3</td>\n",
       "      <td>T</td>\n",
       "      <td>4</td>\n",
       "      <td>2</td>\n",
       "      <td>health</td>\n",
       "      <td>services</td>\n",
       "      <td>...</td>\n",
       "      <td>3</td>\n",
       "      <td>2</td>\n",
       "      <td>2</td>\n",
       "      <td>1</td>\n",
       "      <td>1</td>\n",
       "      <td>5</td>\n",
       "      <td>2</td>\n",
       "      <td>15</td>\n",
       "      <td>14</td>\n",
       "      <td>15</td>\n",
       "    </tr>\n",
       "    <tr>\n",
       "      <td>4</td>\n",
       "      <td>GP</td>\n",
       "      <td>F</td>\n",
       "      <td>16</td>\n",
       "      <td>U</td>\n",
       "      <td>GT3</td>\n",
       "      <td>T</td>\n",
       "      <td>3</td>\n",
       "      <td>3</td>\n",
       "      <td>other</td>\n",
       "      <td>other</td>\n",
       "      <td>...</td>\n",
       "      <td>4</td>\n",
       "      <td>3</td>\n",
       "      <td>2</td>\n",
       "      <td>1</td>\n",
       "      <td>2</td>\n",
       "      <td>5</td>\n",
       "      <td>4</td>\n",
       "      <td>6</td>\n",
       "      <td>10</td>\n",
       "      <td>10</td>\n",
       "    </tr>\n",
       "  </tbody>\n",
       "</table>\n",
       "<p>5 rows × 33 columns</p>\n",
       "</div>"
      ],
      "text/plain": [
       "  school sex  age address famsize Pstatus  Medu  Fedu     Mjob      Fjob  ...  \\\n",
       "0     GP   F   18       U     GT3       A     4     4  at_home   teacher  ...   \n",
       "1     GP   F   17       U     GT3       T     1     1  at_home     other  ...   \n",
       "2     GP   F   15       U     LE3       T     1     1  at_home     other  ...   \n",
       "3     GP   F   15       U     GT3       T     4     2   health  services  ...   \n",
       "4     GP   F   16       U     GT3       T     3     3    other     other  ...   \n",
       "\n",
       "  famrel freetime  goout  Dalc  Walc health absences  G1  G2  G3  \n",
       "0      4        3      4     1     1      3        6   5   6   6  \n",
       "1      5        3      3     1     1      3        4   5   5   6  \n",
       "2      4        3      2     2     3      3       10   7   8  10  \n",
       "3      3        2      2     1     1      5        2  15  14  15  \n",
       "4      4        3      2     1     2      5        4   6  10  10  \n",
       "\n",
       "[5 rows x 33 columns]"
      ]
     },
     "execution_count": 134,
     "metadata": {},
     "output_type": "execute_result"
    }
   ],
   "source": [
    "df.head()"
   ]
  },
  {
   "cell_type": "code",
   "execution_count": 20,
   "metadata": {},
   "outputs": [],
   "source": [
    "## Drop the dupliactes"
   ]
  },
  {
   "cell_type": "code",
   "execution_count": 358,
   "metadata": {},
   "outputs": [
    {
     "data": {
      "text/plain": [
       "Index(['school', 'sex', 'age', 'address', 'famsize', 'Pstatus', 'Medu', 'Fedu',\n",
       "       'Mjob', 'Fjob', 'reason', 'guardian', 'traveltime', 'studytime',\n",
       "       'failures', 'schoolsup', 'famsup', 'paid', 'activities', 'nursery',\n",
       "       'higher', 'internet', 'romantic', 'famrel', 'freetime', 'goout', 'Dalc',\n",
       "       'Walc', 'health', 'absences', 'G1', 'G2', 'G3'],\n",
       "      dtype='object')"
      ]
     },
     "execution_count": 358,
     "metadata": {},
     "output_type": "execute_result"
    }
   ],
   "source": [
    "df=df.drop_duplicates([\"school\",\"sex\",\"age\",\"address\",\"famsize\",\"Pstatus\",\"Medu\",\"Fedu\",\"Mjob\",\"Fjob\",\"reason\",\"nursery\",\"internet\"])\n",
    "df.columns"
   ]
  },
  {
   "cell_type": "code",
   "execution_count": 286,
   "metadata": {},
   "outputs": [
    {
     "data": {
      "text/html": [
       "<div>\n",
       "<style scoped>\n",
       "    .dataframe tbody tr th:only-of-type {\n",
       "        vertical-align: middle;\n",
       "    }\n",
       "\n",
       "    .dataframe tbody tr th {\n",
       "        vertical-align: top;\n",
       "    }\n",
       "\n",
       "    .dataframe thead th {\n",
       "        text-align: right;\n",
       "    }\n",
       "</style>\n",
       "<table border=\"1\" class=\"dataframe\">\n",
       "  <thead>\n",
       "    <tr style=\"text-align: right;\">\n",
       "      <th></th>\n",
       "      <th>age</th>\n",
       "      <th>Medu</th>\n",
       "      <th>Fedu</th>\n",
       "      <th>traveltime</th>\n",
       "      <th>studytime</th>\n",
       "      <th>failures</th>\n",
       "      <th>famrel</th>\n",
       "      <th>freetime</th>\n",
       "      <th>goout</th>\n",
       "      <th>Dalc</th>\n",
       "      <th>Walc</th>\n",
       "      <th>health</th>\n",
       "      <th>absences</th>\n",
       "      <th>G1</th>\n",
       "      <th>G2</th>\n",
       "      <th>G3</th>\n",
       "    </tr>\n",
       "  </thead>\n",
       "  <tbody>\n",
       "    <tr>\n",
       "      <td>age</td>\n",
       "      <td>1.000000</td>\n",
       "      <td>-0.119031</td>\n",
       "      <td>-0.133645</td>\n",
       "      <td>0.014530</td>\n",
       "      <td>0.001454</td>\n",
       "      <td>0.280021</td>\n",
       "      <td>-0.008453</td>\n",
       "      <td>-0.002414</td>\n",
       "      <td>0.094744</td>\n",
       "      <td>0.130655</td>\n",
       "      <td>0.069320</td>\n",
       "      <td>-0.013347</td>\n",
       "      <td>0.168313</td>\n",
       "      <td>-0.113206</td>\n",
       "      <td>-0.130408</td>\n",
       "      <td>-0.127446</td>\n",
       "    </tr>\n",
       "    <tr>\n",
       "      <td>Medu</td>\n",
       "      <td>-0.119031</td>\n",
       "      <td>1.000000</td>\n",
       "      <td>0.635156</td>\n",
       "      <td>-0.239830</td>\n",
       "      <td>0.104501</td>\n",
       "      <td>-0.163166</td>\n",
       "      <td>0.010211</td>\n",
       "      <td>-0.011450</td>\n",
       "      <td>0.022866</td>\n",
       "      <td>-0.018013</td>\n",
       "      <td>-0.036381</td>\n",
       "      <td>-0.002183</td>\n",
       "      <td>0.095703</td>\n",
       "      <td>0.208172</td>\n",
       "      <td>0.202776</td>\n",
       "      <td>0.182611</td>\n",
       "    </tr>\n",
       "    <tr>\n",
       "      <td>Fedu</td>\n",
       "      <td>-0.133645</td>\n",
       "      <td>0.635156</td>\n",
       "      <td>1.000000</td>\n",
       "      <td>-0.189146</td>\n",
       "      <td>0.045236</td>\n",
       "      <td>-0.170862</td>\n",
       "      <td>0.016171</td>\n",
       "      <td>0.009450</td>\n",
       "      <td>0.053071</td>\n",
       "      <td>-0.008774</td>\n",
       "      <td>0.032370</td>\n",
       "      <td>0.038402</td>\n",
       "      <td>0.068048</td>\n",
       "      <td>0.185636</td>\n",
       "      <td>0.156541</td>\n",
       "      <td>0.137159</td>\n",
       "    </tr>\n",
       "    <tr>\n",
       "      <td>traveltime</td>\n",
       "      <td>0.014530</td>\n",
       "      <td>-0.239830</td>\n",
       "      <td>-0.189146</td>\n",
       "      <td>1.000000</td>\n",
       "      <td>-0.066172</td>\n",
       "      <td>0.078820</td>\n",
       "      <td>-0.010459</td>\n",
       "      <td>-0.007536</td>\n",
       "      <td>0.039607</td>\n",
       "      <td>0.084199</td>\n",
       "      <td>0.060548</td>\n",
       "      <td>-0.045230</td>\n",
       "      <td>-0.049896</td>\n",
       "      <td>-0.071572</td>\n",
       "      <td>-0.111347</td>\n",
       "      <td>-0.073488</td>\n",
       "    </tr>\n",
       "    <tr>\n",
       "      <td>studytime</td>\n",
       "      <td>0.001454</td>\n",
       "      <td>0.104501</td>\n",
       "      <td>0.045236</td>\n",
       "      <td>-0.066172</td>\n",
       "      <td>1.000000</td>\n",
       "      <td>-0.125250</td>\n",
       "      <td>0.003935</td>\n",
       "      <td>-0.077845</td>\n",
       "      <td>-0.078264</td>\n",
       "      <td>-0.139678</td>\n",
       "      <td>-0.220301</td>\n",
       "      <td>-0.054130</td>\n",
       "      <td>-0.039015</td>\n",
       "      <td>0.172011</td>\n",
       "      <td>0.133655</td>\n",
       "      <td>0.097863</td>\n",
       "    </tr>\n",
       "    <tr>\n",
       "      <td>failures</td>\n",
       "      <td>0.280021</td>\n",
       "      <td>-0.163166</td>\n",
       "      <td>-0.170862</td>\n",
       "      <td>0.078820</td>\n",
       "      <td>-0.125250</td>\n",
       "      <td>1.000000</td>\n",
       "      <td>-0.068134</td>\n",
       "      <td>0.114463</td>\n",
       "      <td>0.060217</td>\n",
       "      <td>0.088939</td>\n",
       "      <td>0.084924</td>\n",
       "      <td>0.035372</td>\n",
       "      <td>0.087584</td>\n",
       "      <td>-0.368938</td>\n",
       "      <td>-0.360881</td>\n",
       "      <td>-0.359377</td>\n",
       "    </tr>\n",
       "    <tr>\n",
       "      <td>famrel</td>\n",
       "      <td>-0.008453</td>\n",
       "      <td>0.010211</td>\n",
       "      <td>0.016171</td>\n",
       "      <td>-0.010459</td>\n",
       "      <td>0.003935</td>\n",
       "      <td>-0.068134</td>\n",
       "      <td>1.000000</td>\n",
       "      <td>0.140165</td>\n",
       "      <td>0.091317</td>\n",
       "      <td>-0.069881</td>\n",
       "      <td>-0.092647</td>\n",
       "      <td>0.109476</td>\n",
       "      <td>-0.067647</td>\n",
       "      <td>0.060893</td>\n",
       "      <td>0.052807</td>\n",
       "      <td>0.061296</td>\n",
       "    </tr>\n",
       "    <tr>\n",
       "      <td>freetime</td>\n",
       "      <td>-0.002414</td>\n",
       "      <td>-0.011450</td>\n",
       "      <td>0.009450</td>\n",
       "      <td>-0.007536</td>\n",
       "      <td>-0.077845</td>\n",
       "      <td>0.114463</td>\n",
       "      <td>0.140165</td>\n",
       "      <td>1.000000</td>\n",
       "      <td>0.332688</td>\n",
       "      <td>0.117690</td>\n",
       "      <td>0.127746</td>\n",
       "      <td>0.088609</td>\n",
       "      <td>-0.042332</td>\n",
       "      <td>-0.040185</td>\n",
       "      <td>-0.061199</td>\n",
       "      <td>-0.058860</td>\n",
       "    </tr>\n",
       "    <tr>\n",
       "      <td>goout</td>\n",
       "      <td>0.094744</td>\n",
       "      <td>0.022866</td>\n",
       "      <td>0.053071</td>\n",
       "      <td>0.039607</td>\n",
       "      <td>-0.078264</td>\n",
       "      <td>0.060217</td>\n",
       "      <td>0.091317</td>\n",
       "      <td>0.332688</td>\n",
       "      <td>1.000000</td>\n",
       "      <td>0.252217</td>\n",
       "      <td>0.404503</td>\n",
       "      <td>0.002163</td>\n",
       "      <td>0.025046</td>\n",
       "      <td>-0.093786</td>\n",
       "      <td>-0.091030</td>\n",
       "      <td>-0.081691</td>\n",
       "    </tr>\n",
       "    <tr>\n",
       "      <td>Dalc</td>\n",
       "      <td>0.130655</td>\n",
       "      <td>-0.018013</td>\n",
       "      <td>-0.008774</td>\n",
       "      <td>0.084199</td>\n",
       "      <td>-0.139678</td>\n",
       "      <td>0.088939</td>\n",
       "      <td>-0.069881</td>\n",
       "      <td>0.117690</td>\n",
       "      <td>0.252217</td>\n",
       "      <td>1.000000</td>\n",
       "      <td>0.618431</td>\n",
       "      <td>0.065323</td>\n",
       "      <td>0.125517</td>\n",
       "      <td>-0.112935</td>\n",
       "      <td>-0.084944</td>\n",
       "      <td>-0.075212</td>\n",
       "    </tr>\n",
       "    <tr>\n",
       "      <td>Walc</td>\n",
       "      <td>0.069320</td>\n",
       "      <td>-0.036381</td>\n",
       "      <td>0.032370</td>\n",
       "      <td>0.060548</td>\n",
       "      <td>-0.220301</td>\n",
       "      <td>0.084924</td>\n",
       "      <td>-0.092647</td>\n",
       "      <td>0.127746</td>\n",
       "      <td>0.404503</td>\n",
       "      <td>0.618431</td>\n",
       "      <td>1.000000</td>\n",
       "      <td>0.118969</td>\n",
       "      <td>0.131147</td>\n",
       "      <td>-0.131321</td>\n",
       "      <td>-0.102820</td>\n",
       "      <td>-0.084689</td>\n",
       "    </tr>\n",
       "    <tr>\n",
       "      <td>health</td>\n",
       "      <td>-0.013347</td>\n",
       "      <td>-0.002183</td>\n",
       "      <td>0.038402</td>\n",
       "      <td>-0.045230</td>\n",
       "      <td>-0.054130</td>\n",
       "      <td>0.035372</td>\n",
       "      <td>0.109476</td>\n",
       "      <td>0.088609</td>\n",
       "      <td>0.002163</td>\n",
       "      <td>0.065323</td>\n",
       "      <td>0.118969</td>\n",
       "      <td>1.000000</td>\n",
       "      <td>-0.039903</td>\n",
       "      <td>-0.025414</td>\n",
       "      <td>-0.053883</td>\n",
       "      <td>-0.047812</td>\n",
       "    </tr>\n",
       "    <tr>\n",
       "      <td>absences</td>\n",
       "      <td>0.168313</td>\n",
       "      <td>0.095703</td>\n",
       "      <td>0.068048</td>\n",
       "      <td>-0.049896</td>\n",
       "      <td>-0.039015</td>\n",
       "      <td>0.087584</td>\n",
       "      <td>-0.067647</td>\n",
       "      <td>-0.042332</td>\n",
       "      <td>0.025046</td>\n",
       "      <td>0.125517</td>\n",
       "      <td>0.131147</td>\n",
       "      <td>-0.039903</td>\n",
       "      <td>1.000000</td>\n",
       "      <td>-0.050925</td>\n",
       "      <td>-0.042650</td>\n",
       "      <td>-0.004601</td>\n",
       "    </tr>\n",
       "    <tr>\n",
       "      <td>G1</td>\n",
       "      <td>-0.113206</td>\n",
       "      <td>0.208172</td>\n",
       "      <td>0.185636</td>\n",
       "      <td>-0.071572</td>\n",
       "      <td>0.172011</td>\n",
       "      <td>-0.368938</td>\n",
       "      <td>0.060893</td>\n",
       "      <td>-0.040185</td>\n",
       "      <td>-0.093786</td>\n",
       "      <td>-0.112935</td>\n",
       "      <td>-0.131321</td>\n",
       "      <td>-0.025414</td>\n",
       "      <td>-0.050925</td>\n",
       "      <td>1.000000</td>\n",
       "      <td>0.841436</td>\n",
       "      <td>0.796569</td>\n",
       "    </tr>\n",
       "    <tr>\n",
       "      <td>G2</td>\n",
       "      <td>-0.130408</td>\n",
       "      <td>0.202776</td>\n",
       "      <td>0.156541</td>\n",
       "      <td>-0.111347</td>\n",
       "      <td>0.133655</td>\n",
       "      <td>-0.360881</td>\n",
       "      <td>0.052807</td>\n",
       "      <td>-0.061199</td>\n",
       "      <td>-0.091030</td>\n",
       "      <td>-0.084944</td>\n",
       "      <td>-0.102820</td>\n",
       "      <td>-0.053883</td>\n",
       "      <td>-0.042650</td>\n",
       "      <td>0.841436</td>\n",
       "      <td>1.000000</td>\n",
       "      <td>0.913548</td>\n",
       "    </tr>\n",
       "    <tr>\n",
       "      <td>G3</td>\n",
       "      <td>-0.127446</td>\n",
       "      <td>0.182611</td>\n",
       "      <td>0.137159</td>\n",
       "      <td>-0.073488</td>\n",
       "      <td>0.097863</td>\n",
       "      <td>-0.359377</td>\n",
       "      <td>0.061296</td>\n",
       "      <td>-0.058860</td>\n",
       "      <td>-0.081691</td>\n",
       "      <td>-0.075212</td>\n",
       "      <td>-0.084689</td>\n",
       "      <td>-0.047812</td>\n",
       "      <td>-0.004601</td>\n",
       "      <td>0.796569</td>\n",
       "      <td>0.913548</td>\n",
       "      <td>1.000000</td>\n",
       "    </tr>\n",
       "  </tbody>\n",
       "</table>\n",
       "</div>"
      ],
      "text/plain": [
       "                 age      Medu      Fedu  traveltime  studytime  failures  \\\n",
       "age         1.000000 -0.119031 -0.133645    0.014530   0.001454  0.280021   \n",
       "Medu       -0.119031  1.000000  0.635156   -0.239830   0.104501 -0.163166   \n",
       "Fedu       -0.133645  0.635156  1.000000   -0.189146   0.045236 -0.170862   \n",
       "traveltime  0.014530 -0.239830 -0.189146    1.000000  -0.066172  0.078820   \n",
       "studytime   0.001454  0.104501  0.045236   -0.066172   1.000000 -0.125250   \n",
       "failures    0.280021 -0.163166 -0.170862    0.078820  -0.125250  1.000000   \n",
       "famrel     -0.008453  0.010211  0.016171   -0.010459   0.003935 -0.068134   \n",
       "freetime   -0.002414 -0.011450  0.009450   -0.007536  -0.077845  0.114463   \n",
       "goout       0.094744  0.022866  0.053071    0.039607  -0.078264  0.060217   \n",
       "Dalc        0.130655 -0.018013 -0.008774    0.084199  -0.139678  0.088939   \n",
       "Walc        0.069320 -0.036381  0.032370    0.060548  -0.220301  0.084924   \n",
       "health     -0.013347 -0.002183  0.038402   -0.045230  -0.054130  0.035372   \n",
       "absences    0.168313  0.095703  0.068048   -0.049896  -0.039015  0.087584   \n",
       "G1         -0.113206  0.208172  0.185636   -0.071572   0.172011 -0.368938   \n",
       "G2         -0.130408  0.202776  0.156541   -0.111347   0.133655 -0.360881   \n",
       "G3         -0.127446  0.182611  0.137159   -0.073488   0.097863 -0.359377   \n",
       "\n",
       "              famrel  freetime     goout      Dalc      Walc    health  \\\n",
       "age        -0.008453 -0.002414  0.094744  0.130655  0.069320 -0.013347   \n",
       "Medu        0.010211 -0.011450  0.022866 -0.018013 -0.036381 -0.002183   \n",
       "Fedu        0.016171  0.009450  0.053071 -0.008774  0.032370  0.038402   \n",
       "traveltime -0.010459 -0.007536  0.039607  0.084199  0.060548 -0.045230   \n",
       "studytime   0.003935 -0.077845 -0.078264 -0.139678 -0.220301 -0.054130   \n",
       "failures   -0.068134  0.114463  0.060217  0.088939  0.084924  0.035372   \n",
       "famrel      1.000000  0.140165  0.091317 -0.069881 -0.092647  0.109476   \n",
       "freetime    0.140165  1.000000  0.332688  0.117690  0.127746  0.088609   \n",
       "goout       0.091317  0.332688  1.000000  0.252217  0.404503  0.002163   \n",
       "Dalc       -0.069881  0.117690  0.252217  1.000000  0.618431  0.065323   \n",
       "Walc       -0.092647  0.127746  0.404503  0.618431  1.000000  0.118969   \n",
       "health      0.109476  0.088609  0.002163  0.065323  0.118969  1.000000   \n",
       "absences   -0.067647 -0.042332  0.025046  0.125517  0.131147 -0.039903   \n",
       "G1          0.060893 -0.040185 -0.093786 -0.112935 -0.131321 -0.025414   \n",
       "G2          0.052807 -0.061199 -0.091030 -0.084944 -0.102820 -0.053883   \n",
       "G3          0.061296 -0.058860 -0.081691 -0.075212 -0.084689 -0.047812   \n",
       "\n",
       "            absences        G1        G2        G3  \n",
       "age         0.168313 -0.113206 -0.130408 -0.127446  \n",
       "Medu        0.095703  0.208172  0.202776  0.182611  \n",
       "Fedu        0.068048  0.185636  0.156541  0.137159  \n",
       "traveltime -0.049896 -0.071572 -0.111347 -0.073488  \n",
       "studytime  -0.039015  0.172011  0.133655  0.097863  \n",
       "failures    0.087584 -0.368938 -0.360881 -0.359377  \n",
       "famrel     -0.067647  0.060893  0.052807  0.061296  \n",
       "freetime   -0.042332 -0.040185 -0.061199 -0.058860  \n",
       "goout       0.025046 -0.093786 -0.091030 -0.081691  \n",
       "Dalc        0.125517 -0.112935 -0.084944 -0.075212  \n",
       "Walc        0.131147 -0.131321 -0.102820 -0.084689  \n",
       "health     -0.039903 -0.025414 -0.053883 -0.047812  \n",
       "absences    1.000000 -0.050925 -0.042650 -0.004601  \n",
       "G1         -0.050925  1.000000  0.841436  0.796569  \n",
       "G2         -0.042650  0.841436  1.000000  0.913548  \n",
       "G3         -0.004601  0.796569  0.913548  1.000000  "
      ]
     },
     "execution_count": 286,
     "metadata": {},
     "output_type": "execute_result"
    }
   ],
   "source": [
    "df.corr()"
   ]
  },
  {
   "cell_type": "code",
   "execution_count": 142,
   "metadata": {},
   "outputs": [
    {
     "data": {
      "image/png": "[encoded data removed]",
      "text/plain": [
       "<Figure size 1440x720 with 2 Axes>"
      ]
     },
     "metadata": {
      "needs_background": "light"
     },
     "output_type": "display_data"
    }
   ],
   "source": [
    "plt.figure(figsize = (20,10))\n",
    "sns.heatmap(df.corr(),annot=True )\n",
    "plt.show()\n"
   ]
  },
  {
   "cell_type": "code",
   "execution_count": 290,
   "metadata": {},
   "outputs": [
    {
     "data": {
      "text/plain": [
       "school        object\n",
       "sex           object\n",
       "age            int64\n",
       "address       object\n",
       "famsize       object\n",
       "Pstatus       object\n",
       "Medu           int64\n",
       "Fedu           int64\n",
       "Mjob          object\n",
       "Fjob          object\n",
       "reason        object\n",
       "guardian      object\n",
       "traveltime     int64\n",
       "studytime      int64\n",
       "failures       int64\n",
       "schoolsup     object\n",
       "famsup        object\n",
       "paid          object\n",
       "activities    object\n",
       "nursery       object\n",
       "higher        object\n",
       "internet      object\n",
       "romantic      object\n",
       "famrel         int64\n",
       "freetime       int64\n",
       "goout          int64\n",
       "Dalc           int64\n",
       "Walc           int64\n",
       "health         int64\n",
       "absences       int64\n",
       "G1             int64\n",
       "G2             int64\n",
       "dtype: object"
      ]
     },
     "execution_count": 290,
     "metadata": {},
     "output_type": "execute_result"
    }
   ],
   "source": [
    "df.dtypes"
   ]
  },
  {
   "cell_type": "code",
   "execution_count": 302,
   "metadata": {},
   "outputs": [
    {
     "data": {
      "text/plain": [
       "(662, 33)"
      ]
     },
     "execution_count": 302,
     "metadata": {},
     "output_type": "execute_result"
    }
   ],
   "source": [
    "df.shape"
   ]
  },
  {
   "cell_type": "code",
   "execution_count": 312,
   "metadata": {},
   "outputs": [
    {
     "data": {
      "text/plain": [
       "Index(['school', 'sex', 'age', 'address', 'famsize', 'Pstatus', 'Medu', 'Fedu',\n",
       "       'Mjob', 'Fjob', 'reason', 'guardian', 'traveltime', 'studytime',\n",
       "       'schoolsup', 'famsup', 'paid', 'activities', 'nursery', 'higher',\n",
       "       'internet', 'famrel', 'freetime', 'goout', 'Dalc', 'Walc', 'health',\n",
       "       'absences', 'G3'],\n",
       "      dtype='object')"
      ]
     },
     "execution_count": 312,
     "metadata": {},
     "output_type": "execute_result"
    }
   ],
   "source": [
    "df.columns"
   ]
  },
  {
   "cell_type": "code",
   "execution_count": 307,
   "metadata": {},
   "outputs": [],
   "source": [
    "df=df.drop('G2',axis=1)"
   ]
  },
  {
   "cell_type": "code",
   "execution_count": 309,
   "metadata": {},
   "outputs": [],
   "source": [
    "cat_cols=['school','sex','address','famsize','Pstatus','guardian','schoolsup','Mjob','Fjob','reason','guardian','famsup','paid','activities','nursery','higher','internet']"
   ]
  },
  {
   "cell_type": "code",
   "execution_count": 310,
   "metadata": {},
   "outputs": [],
   "source": [
    "df[cat_cols]=df[cat_cols].astype('category')"
   ]
  },
  {
   "cell_type": "code",
   "execution_count": 373,
   "metadata": {},
   "outputs": [],
   "source": [
    "num_cols=[]\n",
    "for i in df.columns:\n",
    "    if(i not in cat_cols):\n",
    "        num_cols.append(i)"
   ]
  },
  {
   "cell_type": "code",
   "execution_count": 374,
   "metadata": {},
   "outputs": [
    {
     "data": {
      "text/plain": [
       "['age',\n",
       " 'Medu',\n",
       " 'Fedu',\n",
       " 'traveltime',\n",
       " 'studytime',\n",
       " 'failures',\n",
       " 'famrel',\n",
       " 'freetime',\n",
       " 'goout',\n",
       " 'Dalc',\n",
       " 'Walc',\n",
       " 'health',\n",
       " 'absences',\n",
       " 'G3']"
      ]
     },
     "execution_count": 374,
     "metadata": {},
     "output_type": "execute_result"
    }
   ],
   "source": [
    "num_cols"
   ]
  },
  {
   "cell_type": "code",
   "execution_count": 372,
   "metadata": {},
   "outputs": [],
   "source": [
    "df=df.drop('G1',axis=1)"
   ]
  },
  {
   "cell_type": "code",
   "execution_count": 375,
   "metadata": {},
   "outputs": [],
   "source": [
    "num_cols.remove('G3')"
   ]
  },
  {
   "cell_type": "code",
   "execution_count": 340,
   "metadata": {},
   "outputs": [],
   "source": [
    "df=le"
   ]
  },
  {
   "cell_type": "code",
   "execution_count": 376,
   "metadata": {},
   "outputs": [],
   "source": [
    "X=df.drop('G3',axis=1)"
   ]
  },
  {
   "cell_type": "code",
   "execution_count": 377,
   "metadata": {},
   "outputs": [],
   "source": [
    "y=df['G3']"
   ]
  },
  {
   "cell_type": "code",
   "execution_count": 378,
   "metadata": {},
   "outputs": [],
   "source": [
    "from sklearn.model_selection import train_test_split\n",
    "X_train, X_test, y_train, y_test = train_test_split(X, y, test_size=0.2)"
   ]
  },
  {
   "cell_type": "code",
   "execution_count": 379,
   "metadata": {},
   "outputs": [],
   "source": [
    "X_train=pd.get_dummies(X_train,drop_first=True)"
   ]
  },
  {
   "cell_type": "code",
   "execution_count": 380,
   "metadata": {},
   "outputs": [],
   "source": [
    "X_test=pd.get_dummies(X_test,drop_first=True)"
   ]
  },
  {
   "cell_type": "code",
   "execution_count": 381,
   "metadata": {},
   "outputs": [],
   "source": [
    "from sklearn.preprocessing import StandardScaler\n",
    "stdzer = StandardScaler()\n",
    "stdzer.fit(X_train[num_cols])\n",
    "\n",
    "X_train[num_cols] = stdzer.transform(X_train[num_cols])\n",
    "X_test[num_cols] = stdzer.transform(X_test[num_cols])"
   ]
  },
  {
   "cell_type": "code",
   "execution_count": 382,
   "metadata": {},
   "outputs": [],
   "source": [
    "from sklearn.linear_model import LinearRegression\n",
    "linear_model = LinearRegression(normalize=True).fit(X_train, y_train)"
   ]
  },
  {
   "cell_type": "code",
   "execution_count": 383,
   "metadata": {},
   "outputs": [
    {
     "data": {
      "text/plain": [
       "0.23768421334853385"
      ]
     },
     "execution_count": 383,
     "metadata": {},
     "output_type": "execute_result"
    }
   ],
   "source": [
    "linear_model.get_params\n",
    "linear_model.score(X_train, y_train)"
   ]
  },
  {
   "cell_type": "code",
   "execution_count": 384,
   "metadata": {},
   "outputs": [],
   "source": [
    "y_pred = linear_model.predict(X_test)"
   ]
  },
  {
   "cell_type": "code",
   "execution_count": 385,
   "metadata": {},
   "outputs": [
    {
     "name": "stdout",
     "output_type": "stream",
     "text": [
      "Testing_score :  0.03858586115364637\n"
     ]
    }
   ],
   "source": [
    "from sklearn.metrics import r2_score\n",
    "print(\"Testing_score : \", r2_score(y_test, y_pred))"
   ]
  },
  {
   "cell_type": "code",
   "execution_count": 184,
   "metadata": {},
   "outputs": [
    {
     "data": {
      "text/plain": [
       "Index(['age', 'Medu', 'Fedu', 'traveltime', 'studytime', 'failures', 'famrel',\n",
       "       'freetime', 'goout', 'Dalc', 'Walc', 'health', 'absences', 'school_MS',\n",
       "       'sex_M', 'address_U', 'famsize_LE3', 'guardian_mother',\n",
       "       'guardian_other', 'schoolsup_yes', 'famsup_yes', 'paid_yes',\n",
       "       'activities_yes', 'nursery_yes', 'higher_yes', 'internet_yes'],\n",
       "      dtype='object')"
      ]
     },
     "execution_count": 184,
     "metadata": {},
     "output_type": "execute_result"
    }
   ],
   "source": [
    "X_train.columns"
   ]
  },
  {
   "cell_type": "code",
   "execution_count": 185,
   "metadata": {},
   "outputs": [
    {
     "data": {
      "text/plain": [
       "Index(['school', 'sex', 'age', 'address', 'famsize', 'Medu', 'Fedu',\n",
       "       'guardian', 'traveltime', 'studytime', 'failures', 'schoolsup',\n",
       "       'famsup', 'paid', 'activities', 'nursery', 'higher', 'internet',\n",
       "       'famrel', 'freetime', 'goout', 'Dalc', 'Walc', 'health', 'absences',\n",
       "       'G3'],\n",
       "      dtype='object')"
      ]
     },
     "execution_count": 185,
     "metadata": {},
     "output_type": "execute_result"
    }
   ],
   "source": [
    "df.columns"
   ]
  },
  {
   "cell_type": "code",
   "execution_count": 186,
   "metadata": {},
   "outputs": [
    {
     "data": {
      "text/plain": [
       "school        category\n",
       "sex           category\n",
       "age              int64\n",
       "address       category\n",
       "famsize       category\n",
       "Medu             int64\n",
       "Fedu             int64\n",
       "guardian      category\n",
       "traveltime       int64\n",
       "studytime        int64\n",
       "failures         int64\n",
       "schoolsup     category\n",
       "famsup        category\n",
       "paid          category\n",
       "activities    category\n",
       "nursery       category\n",
       "higher        category\n",
       "internet      category\n",
       "famrel           int64\n",
       "freetime         int64\n",
       "goout            int64\n",
       "Dalc             int64\n",
       "Walc             int64\n",
       "health           int64\n",
       "absences         int64\n",
       "G3               int64\n",
       "dtype: object"
      ]
     },
     "execution_count": 186,
     "metadata": {},
     "output_type": "execute_result"
    }
   ],
   "source": [
    "df.dtypes"
   ]
  },
  {
   "cell_type": "code",
   "execution_count": 318,
   "metadata": {},
   "outputs": [
    {
     "data": {
      "text/plain": [
       "school        category\n",
       "sex           category\n",
       "age              int64\n",
       "address       category\n",
       "famsize       category\n",
       "Pstatus       category\n",
       "Medu             int64\n",
       "Fedu             int64\n",
       "Mjob          category\n",
       "Fjob          category\n",
       "reason        category\n",
       "guardian        object\n",
       "traveltime       int64\n",
       "studytime        int64\n",
       "schoolsup     category\n",
       "famsup        category\n",
       "paid          category\n",
       "activities    category\n",
       "nursery       category\n",
       "higher        category\n",
       "internet      category\n",
       "famrel           int64\n",
       "freetime         int64\n",
       "goout            int64\n",
       "Dalc             int64\n",
       "Walc             int64\n",
       "health           int64\n",
       "absences         int64\n",
       "G3               int64\n",
       "dtype: object"
      ]
     },
     "execution_count": 318,
     "metadata": {},
     "output_type": "execute_result"
    }
   ],
   "source": [
    "df.dtypes"
   ]
  },
  {
   "cell_type": "code",
   "execution_count": 319,
   "metadata": {},
   "outputs": [
    {
     "data": {
      "image/png": "[encoded data removed]",
      "text/plain": [
       "<Figure size 1440x2160 with 13 Axes>"
      ]
     },
     "metadata": {
      "needs_background": "light"
     },
     "output_type": "display_data"
    }
   ],
   "source": [
    "# Create a dictionary of columns.\n",
    "col_dict = {'age':1,'Medu':2,'Fedu':3,\n",
    "            'traveltime':4,'studytime':5,'famrel':6,\n",
    "            'freetime':7,'goout':8,'Dalc':9,'Walc':10,'health':11,'absences':12,'G3':13}\n",
    "\n",
    "\n",
    "\n",
    "\n",
    "\n",
    "# Detect outliers in each variable using box plots.\n",
    "plt.figure(figsize=(20,30))\n",
    "\n",
    "for variable,i in col_dict.items():\n",
    "                     plt.subplot(5,4,i)\n",
    "                     plt.boxplot(df[variable],whis=1.5)\n",
    "                     plt.title(variable)\n",
    "\n",
    "plt.show()\n",
    "\n"
   ]
  },
  {
   "cell_type": "code",
   "execution_count": 320,
   "metadata": {},
   "outputs": [],
   "source": [
    "le=df"
   ]
  },
  {
   "cell_type": "code",
   "execution_count": 321,
   "metadata": {},
   "outputs": [
    {
     "name": "stdout",
     "output_type": "stream",
     "text": [
      "Number of outliers and percentage of it in age : 1 and 0.050327126321087066\n",
      "Number of outliers and percentage of it in Medu : 0 and 0.0\n",
      "Number of outliers and percentage of it in Fedu : 0 and 0.0\n",
      "Number of outliers and percentage of it in traveltime : 16 and 0.8052340211373931\n",
      "Number of outliers and percentage of it in studytime : 35 and 1.7614494212380474\n",
      "Number of outliers and percentage of it in famrel : 50 and 2.5163563160543534\n",
      "Number of outliers and percentage of it in freetime : 47 and 2.365374937091092\n",
      "Number of outliers and percentage of it in goout : 0 and 0.0\n",
      "Number of outliers and percentage of it in Dalc : 35 and 1.7614494212380474\n",
      "Number of outliers and percentage of it in Walc : 0 and 0.0\n",
      "Number of outliers and percentage of it in health : 0 and 0.0\n",
      "Number of outliers and percentage of it in absences : 18 and 0.9058882737795672\n",
      "Number of outliers and percentage of it in G3 : 46 and 2.315047810770005\n"
     ]
    }
   ],
   "source": [
    "### Way to handle it:\n",
    "\n",
    "# Calculate number of outliers and its percentage in each variable using Tukey's method.\n",
    "\n",
    "for variable in col_dict.keys():\n",
    "    q75, q25 = np.percentile(le[variable], [75 ,25])\n",
    "    iqr = q75 - q25\n",
    "\n",
    "    min_val = q25 - (iqr*1.5)\n",
    "    max_val = q75 + (iqr*1.5)\n",
    "    print(\"Number of outliers and percentage of it in {} : {} and {}\".format(variable,\n",
    "                                                                             len((np.where((le[variable] > max_val) | \n",
    "                                                                                           (le[variable] < min_val))[0])),len((np.where((le[variable] > max_val) | \n",
    "                                                                                           (le[variable] < min_val))[0]))*100/1987))\n",
    "    \n",
    "    \n",
    "    \n"
   ]
  },
  {
   "cell_type": "code",
   "execution_count": null,
   "metadata": {},
   "outputs": [],
   "source": [
    "traveltime,studytime,famrel,Dalc,absences,freetime"
   ]
  },
  {
   "cell_type": "code",
   "execution_count": null,
   "metadata": {},
   "outputs": [],
   "source": []
  },
  {
   "cell_type": "code",
   "execution_count": 322,
   "metadata": {},
   "outputs": [
    {
     "data": {
      "image/png": "[encoded data removed]",
      "text/plain": [
       "<Figure size 1296x432 with 2 Axes>"
      ]
     },
     "metadata": {
      "needs_background": "light"
     },
     "output_type": "display_data"
    }
   ],
   "source": [
    "# Removing Outliers in the variables using Winsorization technique.\n",
    "# Winsorize age\n",
    "from scipy.stats.mstats import winsorize\n",
    "plt.figure(figsize=(18,6))\n",
    "\n",
    "plt.subplot(1,2,1)\n",
    "original_traveltime = le['age']\n",
    "plt.boxplot(original_traveltime)\n",
    "plt.title(\"original_traveltime\")\n",
    "\n",
    "plt.subplot(1,2,2)\n",
    "winsorized_age = winsorize(le['age'],(0,0.05))### first one is for lower and second is for upper\n",
    "plt.boxplot(winsorized_age)\n",
    "plt.title(\"winsorized_age\")\n",
    "\n",
    "plt.show()    \n"
   ]
  },
  {
   "cell_type": "code",
   "execution_count": 323,
   "metadata": {},
   "outputs": [
    {
     "data": {
      "image/png": "[encoded data removed]",
      "text/plain": [
       "<Figure size 1296x432 with 2 Axes>"
      ]
     },
     "metadata": {
      "needs_background": "light"
     },
     "output_type": "display_data"
    }
   ],
   "source": [
    "# Removing Outliers in the variables using Winsorization technique.\n",
    "# Winsorize traveltime\n",
    "from scipy.stats.mstats import winsorize\n",
    "plt.figure(figsize=(18,6))\n",
    "\n",
    "plt.subplot(1,2,1)\n",
    "original_traveltime = le['traveltime']\n",
    "plt.boxplot(original_traveltime)\n",
    "plt.title(\"original_traveltime\")\n",
    "\n",
    "plt.subplot(1,2,2)\n",
    "winsorized_traveltime = winsorize(le['traveltime'],(0,0.08))### first one is for lower and second is for upper\n",
    "plt.boxplot(winsorized_traveltime)\n",
    "plt.title(\"winsorized_traveltime\")\n",
    "\n",
    "plt.show()    \n"
   ]
  },
  {
   "cell_type": "code",
   "execution_count": 324,
   "metadata": {},
   "outputs": [
    {
     "data": {
      "image/png": "[encoded data removed]",
      "text/plain": [
       "<Figure size 1296x432 with 2 Axes>"
      ]
     },
     "metadata": {
      "needs_background": "light"
     },
     "output_type": "display_data"
    }
   ],
   "source": [
    "# Removing Outliers in the variables using Winsorization technique.\n",
    "# Winsorize studytime\n",
    "from scipy.stats.mstats import winsorize\n",
    "plt.figure(figsize=(18,6))\n",
    "\n",
    "plt.subplot(1,2,1)\n",
    "original_studytime = le['studytime']\n",
    "plt.boxplot(original_studytime)\n",
    "plt.title(\"original_studytime\")\n",
    "\n",
    "plt.subplot(1,2,2)\n",
    "winsorized_studytime = winsorize(le['studytime'],(0,0.17))### first one is for lower and second is for upper\n",
    "plt.boxplot(winsorized_studytime)\n",
    "plt.title(\"winsorized_studytime\")\n",
    "\n",
    "plt.show()    \n"
   ]
  },
  {
   "cell_type": "code",
   "execution_count": 325,
   "metadata": {},
   "outputs": [
    {
     "ename": "KeyError",
     "evalue": "\"['failures'] not found in axis\"",
     "output_type": "error",
     "traceback": [
      "\u001b[1;31m---------------------------------------------------------------------------\u001b[0m",
      "\u001b[1;31mKeyError\u001b[0m                                  Traceback (most recent call last)",
      "\u001b[1;32m<ipython-input-325-20410d54570d>\u001b[0m in \u001b[0;36m<module>\u001b[1;34m\u001b[0m\n\u001b[1;32m----> 1\u001b[1;33m \u001b[0mle\u001b[0m\u001b[1;33m=\u001b[0m\u001b[0mle\u001b[0m\u001b[1;33m.\u001b[0m\u001b[0mdrop\u001b[0m\u001b[1;33m(\u001b[0m\u001b[1;34m'failures'\u001b[0m\u001b[1;33m,\u001b[0m\u001b[0maxis\u001b[0m\u001b[1;33m=\u001b[0m\u001b[1;36m1\u001b[0m\u001b[1;33m)\u001b[0m\u001b[1;33m\u001b[0m\u001b[1;33m\u001b[0m\u001b[0m\n\u001b[0m",
      "\u001b[1;32m~\\Anaconda3\\envs\\python-r\\lib\\site-packages\\pandas\\core\\frame.py\u001b[0m in \u001b[0;36mdrop\u001b[1;34m(self, labels, axis, index, columns, level, inplace, errors)\u001b[0m\n\u001b[0;32m   4100\u001b[0m             \u001b[0mlevel\u001b[0m\u001b[1;33m=\u001b[0m\u001b[0mlevel\u001b[0m\u001b[1;33m,\u001b[0m\u001b[1;33m\u001b[0m\u001b[1;33m\u001b[0m\u001b[0m\n\u001b[0;32m   4101\u001b[0m             \u001b[0minplace\u001b[0m\u001b[1;33m=\u001b[0m\u001b[0minplace\u001b[0m\u001b[1;33m,\u001b[0m\u001b[1;33m\u001b[0m\u001b[1;33m\u001b[0m\u001b[0m\n\u001b[1;32m-> 4102\u001b[1;33m             \u001b[0merrors\u001b[0m\u001b[1;33m=\u001b[0m\u001b[0merrors\u001b[0m\u001b[1;33m,\u001b[0m\u001b[1;33m\u001b[0m\u001b[1;33m\u001b[0m\u001b[0m\n\u001b[0m\u001b[0;32m   4103\u001b[0m         )\n\u001b[0;32m   4104\u001b[0m \u001b[1;33m\u001b[0m\u001b[0m\n",
      "\u001b[1;32m~\\Anaconda3\\envs\\python-r\\lib\\site-packages\\pandas\\core\\generic.py\u001b[0m in \u001b[0;36mdrop\u001b[1;34m(self, labels, axis, index, columns, level, inplace, errors)\u001b[0m\n\u001b[0;32m   3912\u001b[0m         \u001b[1;32mfor\u001b[0m \u001b[0maxis\u001b[0m\u001b[1;33m,\u001b[0m \u001b[0mlabels\u001b[0m \u001b[1;32min\u001b[0m \u001b[0maxes\u001b[0m\u001b[1;33m.\u001b[0m\u001b[0mitems\u001b[0m\u001b[1;33m(\u001b[0m\u001b[1;33m)\u001b[0m\u001b[1;33m:\u001b[0m\u001b[1;33m\u001b[0m\u001b[1;33m\u001b[0m\u001b[0m\n\u001b[0;32m   3913\u001b[0m             \u001b[1;32mif\u001b[0m \u001b[0mlabels\u001b[0m \u001b[1;32mis\u001b[0m \u001b[1;32mnot\u001b[0m \u001b[1;32mNone\u001b[0m\u001b[1;33m:\u001b[0m\u001b[1;33m\u001b[0m\u001b[1;33m\u001b[0m\u001b[0m\n\u001b[1;32m-> 3914\u001b[1;33m                 \u001b[0mobj\u001b[0m \u001b[1;33m=\u001b[0m \u001b[0mobj\u001b[0m\u001b[1;33m.\u001b[0m\u001b[0m_drop_axis\u001b[0m\u001b[1;33m(\u001b[0m\u001b[0mlabels\u001b[0m\u001b[1;33m,\u001b[0m \u001b[0maxis\u001b[0m\u001b[1;33m,\u001b[0m \u001b[0mlevel\u001b[0m\u001b[1;33m=\u001b[0m\u001b[0mlevel\u001b[0m\u001b[1;33m,\u001b[0m \u001b[0merrors\u001b[0m\u001b[1;33m=\u001b[0m\u001b[0merrors\u001b[0m\u001b[1;33m)\u001b[0m\u001b[1;33m\u001b[0m\u001b[1;33m\u001b[0m\u001b[0m\n\u001b[0m\u001b[0;32m   3915\u001b[0m \u001b[1;33m\u001b[0m\u001b[0m\n\u001b[0;32m   3916\u001b[0m         \u001b[1;32mif\u001b[0m \u001b[0minplace\u001b[0m\u001b[1;33m:\u001b[0m\u001b[1;33m\u001b[0m\u001b[1;33m\u001b[0m\u001b[0m\n",
      "\u001b[1;32m~\\Anaconda3\\envs\\python-r\\lib\\site-packages\\pandas\\core\\generic.py\u001b[0m in \u001b[0;36m_drop_axis\u001b[1;34m(self, labels, axis, level, errors)\u001b[0m\n\u001b[0;32m   3944\u001b[0m                 \u001b[0mnew_axis\u001b[0m \u001b[1;33m=\u001b[0m \u001b[0maxis\u001b[0m\u001b[1;33m.\u001b[0m\u001b[0mdrop\u001b[0m\u001b[1;33m(\u001b[0m\u001b[0mlabels\u001b[0m\u001b[1;33m,\u001b[0m \u001b[0mlevel\u001b[0m\u001b[1;33m=\u001b[0m\u001b[0mlevel\u001b[0m\u001b[1;33m,\u001b[0m \u001b[0merrors\u001b[0m\u001b[1;33m=\u001b[0m\u001b[0merrors\u001b[0m\u001b[1;33m)\u001b[0m\u001b[1;33m\u001b[0m\u001b[1;33m\u001b[0m\u001b[0m\n\u001b[0;32m   3945\u001b[0m             \u001b[1;32melse\u001b[0m\u001b[1;33m:\u001b[0m\u001b[1;33m\u001b[0m\u001b[1;33m\u001b[0m\u001b[0m\n\u001b[1;32m-> 3946\u001b[1;33m                 \u001b[0mnew_axis\u001b[0m \u001b[1;33m=\u001b[0m \u001b[0maxis\u001b[0m\u001b[1;33m.\u001b[0m\u001b[0mdrop\u001b[0m\u001b[1;33m(\u001b[0m\u001b[0mlabels\u001b[0m\u001b[1;33m,\u001b[0m \u001b[0merrors\u001b[0m\u001b[1;33m=\u001b[0m\u001b[0merrors\u001b[0m\u001b[1;33m)\u001b[0m\u001b[1;33m\u001b[0m\u001b[1;33m\u001b[0m\u001b[0m\n\u001b[0m\u001b[0;32m   3947\u001b[0m             \u001b[0mresult\u001b[0m \u001b[1;33m=\u001b[0m \u001b[0mself\u001b[0m\u001b[1;33m.\u001b[0m\u001b[0mreindex\u001b[0m\u001b[1;33m(\u001b[0m\u001b[1;33m**\u001b[0m\u001b[1;33m{\u001b[0m\u001b[0maxis_name\u001b[0m\u001b[1;33m:\u001b[0m \u001b[0mnew_axis\u001b[0m\u001b[1;33m}\u001b[0m\u001b[1;33m)\u001b[0m\u001b[1;33m\u001b[0m\u001b[1;33m\u001b[0m\u001b[0m\n\u001b[0;32m   3948\u001b[0m \u001b[1;33m\u001b[0m\u001b[0m\n",
      "\u001b[1;32m~\\Anaconda3\\envs\\python-r\\lib\\site-packages\\pandas\\core\\indexes\\base.py\u001b[0m in \u001b[0;36mdrop\u001b[1;34m(self, labels, errors)\u001b[0m\n\u001b[0;32m   5338\u001b[0m         \u001b[1;32mif\u001b[0m \u001b[0mmask\u001b[0m\u001b[1;33m.\u001b[0m\u001b[0many\u001b[0m\u001b[1;33m(\u001b[0m\u001b[1;33m)\u001b[0m\u001b[1;33m:\u001b[0m\u001b[1;33m\u001b[0m\u001b[1;33m\u001b[0m\u001b[0m\n\u001b[0;32m   5339\u001b[0m             \u001b[1;32mif\u001b[0m \u001b[0merrors\u001b[0m \u001b[1;33m!=\u001b[0m \u001b[1;34m\"ignore\"\u001b[0m\u001b[1;33m:\u001b[0m\u001b[1;33m\u001b[0m\u001b[1;33m\u001b[0m\u001b[0m\n\u001b[1;32m-> 5340\u001b[1;33m                 \u001b[1;32mraise\u001b[0m \u001b[0mKeyError\u001b[0m\u001b[1;33m(\u001b[0m\u001b[1;34m\"{} not found in axis\"\u001b[0m\u001b[1;33m.\u001b[0m\u001b[0mformat\u001b[0m\u001b[1;33m(\u001b[0m\u001b[0mlabels\u001b[0m\u001b[1;33m[\u001b[0m\u001b[0mmask\u001b[0m\u001b[1;33m]\u001b[0m\u001b[1;33m)\u001b[0m\u001b[1;33m)\u001b[0m\u001b[1;33m\u001b[0m\u001b[1;33m\u001b[0m\u001b[0m\n\u001b[0m\u001b[0;32m   5341\u001b[0m             \u001b[0mindexer\u001b[0m \u001b[1;33m=\u001b[0m \u001b[0mindexer\u001b[0m\u001b[1;33m[\u001b[0m\u001b[1;33m~\u001b[0m\u001b[0mmask\u001b[0m\u001b[1;33m]\u001b[0m\u001b[1;33m\u001b[0m\u001b[1;33m\u001b[0m\u001b[0m\n\u001b[0;32m   5342\u001b[0m         \u001b[1;32mreturn\u001b[0m \u001b[0mself\u001b[0m\u001b[1;33m.\u001b[0m\u001b[0mdelete\u001b[0m\u001b[1;33m(\u001b[0m\u001b[0mindexer\u001b[0m\u001b[1;33m)\u001b[0m\u001b[1;33m\u001b[0m\u001b[1;33m\u001b[0m\u001b[0m\n",
      "\u001b[1;31mKeyError\u001b[0m: \"['failures'] not found in axis\""
     ]
    }
   ],
   "source": [
    "le=le.drop('failures',axis=1)"
   ]
  },
  {
   "cell_type": "code",
   "execution_count": 326,
   "metadata": {},
   "outputs": [
    {
     "data": {
      "image/png": "[encoded data removed]",
      "text/plain": [
       "<Figure size 1296x432 with 2 Axes>"
      ]
     },
     "metadata": {
      "needs_background": "light"
     },
     "output_type": "display_data"
    }
   ],
   "source": [
    "# Removing Outliers in the variables using Winsorization technique.\n",
    "# Winsorize famrel\n",
    "from scipy.stats.mstats import winsorize\n",
    "plt.figure(figsize=(18,6))\n",
    "\n",
    "plt.subplot(1,2,1)\n",
    "original_famrel = le['famrel']\n",
    "plt.boxplot(original_famrel)\n",
    "plt.title(\"original_famrel\")\n",
    "\n",
    "plt.subplot(1,2,2)\n",
    "winsorized_famrel = winsorize(le['famrel'],(0.2,0))### first one is for lower and second is for upper\n",
    "plt.boxplot(winsorized_famrel)\n",
    "plt.title(\"winsorized_famrel\")\n",
    "\n",
    "plt.show()    \n"
   ]
  },
  {
   "cell_type": "code",
   "execution_count": 327,
   "metadata": {},
   "outputs": [
    {
     "data": {
      "image/png": "[encoded data removed]",
      "text/plain": [
       "<Figure size 1296x432 with 2 Axes>"
      ]
     },
     "metadata": {
      "needs_background": "light"
     },
     "output_type": "display_data"
    }
   ],
   "source": [
    "# Removing Outliers in the variables using Winsorization technique.\n",
    "# Winsorize famrel\n",
    "from scipy.stats.mstats import winsorize\n",
    "plt.figure(figsize=(18,6))\n",
    "\n",
    "plt.subplot(1,2,1)\n",
    "original_famrel = le['famrel']\n",
    "plt.boxplot(original_famrel)\n",
    "plt.title(\"original_famrel\")\n",
    "\n",
    "plt.subplot(1,2,2)\n",
    "winsorized_famrel = winsorize(le['famrel'],(0.2,0))### first one is for lower and second is for upper\n",
    "plt.boxplot(winsorized_famrel)\n",
    "plt.title(\"winsorized_famrel\")\n",
    "\n",
    "plt.show()    \n"
   ]
  },
  {
   "cell_type": "code",
   "execution_count": 328,
   "metadata": {},
   "outputs": [
    {
     "data": {
      "image/png": "[encoded data removed]",
      "text/plain": [
       "<Figure size 1296x432 with 2 Axes>"
      ]
     },
     "metadata": {
      "needs_background": "light"
     },
     "output_type": "display_data"
    }
   ],
   "source": [
    "# Removing Outliers in the variables using Winsorization technique.\n",
    "# Winsorize freetime\n",
    "from scipy.stats.mstats import winsorize\n",
    "plt.figure(figsize=(18,6))\n",
    "\n",
    "plt.subplot(1,2,1)\n",
    "original_Dalc = le['freetime']\n",
    "plt.boxplot(original_Dalc)\n",
    "plt.title(\"original_Dalc\")\n",
    "\n",
    "plt.subplot(1,2,2)\n",
    "winsorized_freetime = winsorize(le['freetime'],(0.2,0))### first one is for lower and second is for upper\n",
    "plt.boxplot(winsorized_freetime)\n",
    "plt.title(\"winsorized_freetime\")\n",
    "\n",
    "plt.show()    \n"
   ]
  },
  {
   "cell_type": "code",
   "execution_count": 329,
   "metadata": {},
   "outputs": [
    {
     "data": {
      "image/png": "[encoded data removed]",
      "text/plain": [
       "<Figure size 1296x432 with 2 Axes>"
      ]
     },
     "metadata": {
      "needs_background": "light"
     },
     "output_type": "display_data"
    }
   ],
   "source": [
    "# Removing Outliers in the variables using Winsorization technique.\n",
    "# Winsorize Dalc\n",
    "from scipy.stats.mstats import winsorize\n",
    "plt.figure(figsize=(18,6))\n",
    "\n",
    "plt.subplot(1,2,1)\n",
    "original_Dalc = le['Dalc']\n",
    "plt.boxplot(original_Dalc)\n",
    "plt.title(\"original_Dalc\")\n",
    "\n",
    "plt.subplot(1,2,2)\n",
    "winsorized_Dalc = winsorize(le['Dalc'],(0,0.1))### first one is for lower and second is for upper\n",
    "plt.boxplot(winsorized_Dalc)\n",
    "plt.title(\"winsorized_Dalc\")\n",
    "\n",
    "plt.show()    \n"
   ]
  },
  {
   "cell_type": "code",
   "execution_count": 330,
   "metadata": {},
   "outputs": [
    {
     "data": {
      "image/png": "[encoded data removed]",
      "text/plain": [
       "<Figure size 1296x432 with 2 Axes>"
      ]
     },
     "metadata": {
      "needs_background": "light"
     },
     "output_type": "display_data"
    }
   ],
   "source": [
    "# Removing Outliers in the variables using Winsorization technique.\n",
    "# Winsorize absences\n",
    "from scipy.stats.mstats import winsorize\n",
    "plt.figure(figsize=(18,6))\n",
    "\n",
    "plt.subplot(1,2,1)\n",
    "original_absences = le['absences']\n",
    "plt.boxplot(original_absences)\n",
    "plt.title(\"original_absences\")\n",
    "\n",
    "plt.subplot(1,2,2)\n",
    "winsorized_absences = winsorize(le['absences'],(0,0.09))### first one is for lower and second is for upper\n",
    "plt.boxplot(winsorized_absences)\n",
    "plt.title(\"winsorized_absences\")\n",
    "\n",
    "plt.show()    \n"
   ]
  },
  {
   "cell_type": "code",
   "execution_count": 331,
   "metadata": {},
   "outputs": [
    {
     "data": {
      "image/png": "[encoded data removed]",
      "text/plain": [
       "<Figure size 1296x432 with 2 Axes>"
      ]
     },
     "metadata": {
      "needs_background": "light"
     },
     "output_type": "display_data"
    }
   ],
   "source": [
    "# Removing Outliers in the variables using Winsorization technique.\n",
    "# Winsorize G3\n",
    "from scipy.stats.mstats import winsorize\n",
    "plt.figure(figsize=(18,6))\n",
    "\n",
    "plt.subplot(1,2,1)\n",
    "original_G3 = le['G3']\n",
    "plt.boxplot(original_G3)\n",
    "plt.title(\"original_G3\")\n",
    "\n",
    "plt.subplot(1,2,2)\n",
    "winsorized_G3 = winsorize(le['G3'],(0.2,0.2))### first one is for lower and second is for upper\n",
    "plt.boxplot(winsorized_G3)\n",
    "plt.title(\"winsorized_G3\")\n",
    "\n",
    "plt.show()    \n"
   ]
  },
  {
   "cell_type": "code",
   "execution_count": 332,
   "metadata": {},
   "outputs": [
    {
     "data": {
      "text/plain": [
       "Index(['school', 'sex', 'age', 'address', 'famsize', 'Pstatus', 'Medu', 'Fedu',\n",
       "       'Mjob', 'Fjob', 'reason', 'guardian', 'traveltime', 'studytime',\n",
       "       'schoolsup', 'famsup', 'paid', 'activities', 'nursery', 'higher',\n",
       "       'internet', 'famrel', 'freetime', 'goout', 'Dalc', 'Walc', 'health',\n",
       "       'absences', 'G3'],\n",
       "      dtype='object')"
      ]
     },
     "execution_count": 332,
     "metadata": {},
     "output_type": "execute_result"
    }
   ],
   "source": [
    "le.columns"
   ]
  },
  {
   "cell_type": "code",
   "execution_count": 333,
   "metadata": {},
   "outputs": [
    {
     "data": {
      "text/plain": [
       "['age',\n",
       " 'Medu',\n",
       " 'Fedu',\n",
       " 'traveltime',\n",
       " 'studytime',\n",
       " 'famrel',\n",
       " 'freetime',\n",
       " 'goout',\n",
       " 'Dalc',\n",
       " 'Walc',\n",
       " 'health',\n",
       " 'absences']"
      ]
     },
     "execution_count": 333,
     "metadata": {},
     "output_type": "execute_result"
    }
   ],
   "source": [
    "num_cols"
   ]
  },
  {
   "cell_type": "code",
   "execution_count": 336,
   "metadata": {},
   "outputs": [
    {
     "data": {
      "text/plain": [
       "Index(['school', 'sex', 'age', 'address', 'famsize', 'Pstatus', 'Medu', 'Fedu',\n",
       "       'Mjob', 'Fjob', 'reason', 'guardian', 'traveltime', 'studytime',\n",
       "       'schoolsup', 'famsup', 'paid', 'activities', 'nursery', 'higher',\n",
       "       'internet', 'famrel', 'freetime', 'goout', 'Dalc', 'Walc', 'health',\n",
       "       'absences', 'G3'],\n",
       "      dtype='object')"
      ]
     },
     "execution_count": 336,
     "metadata": {},
     "output_type": "execute_result"
    }
   ],
   "source": [
    "le.columns"
   ]
  },
  {
   "cell_type": "code",
   "execution_count": 337,
   "metadata": {},
   "outputs": [
    {
     "data": {
      "text/plain": [
       "school        category\n",
       "sex           category\n",
       "age              int64\n",
       "address       category\n",
       "famsize       category\n",
       "Pstatus       category\n",
       "Medu             int64\n",
       "Fedu             int64\n",
       "Mjob          category\n",
       "Fjob          category\n",
       "reason        category\n",
       "guardian        object\n",
       "traveltime       int64\n",
       "studytime        int64\n",
       "schoolsup     category\n",
       "famsup        category\n",
       "paid          category\n",
       "activities    category\n",
       "nursery       category\n",
       "higher        category\n",
       "internet      category\n",
       "famrel           int64\n",
       "freetime         int64\n",
       "goout            int64\n",
       "Dalc             int64\n",
       "Walc             int64\n",
       "health           int64\n",
       "absences         int64\n",
       "G3               int64\n",
       "dtype: object"
      ]
     },
     "execution_count": 337,
     "metadata": {},
     "output_type": "execute_result"
    }
   ],
   "source": [
    "le.dtypes"
   ]
  },
  {
   "cell_type": "code",
   "execution_count": 338,
   "metadata": {},
   "outputs": [],
   "source": [
    "df=le"
   ]
  },
  {
   "cell_type": "code",
   "execution_count": 339,
   "metadata": {},
   "outputs": [
    {
     "data": {
      "text/plain": [
       "Index(['school', 'sex', 'age', 'address', 'famsize', 'Pstatus', 'Medu', 'Fedu',\n",
       "       'Mjob', 'Fjob', 'reason', 'guardian', 'traveltime', 'studytime',\n",
       "       'schoolsup', 'famsup', 'paid', 'activities', 'nursery', 'higher',\n",
       "       'internet', 'famrel', 'freetime', 'goout', 'Dalc', 'Walc', 'health',\n",
       "       'absences', 'G3'],\n",
       "      dtype='object')"
      ]
     },
     "execution_count": 339,
     "metadata": {},
     "output_type": "execute_result"
    }
   ],
   "source": [
    "df.columns"
   ]
  },
  {
   "cell_type": "code",
   "execution_count": null,
   "metadata": {},
   "outputs": [],
   "source": [
    "# G3 w.r.t famsize using bar plot.\n",
    "plt.figure(figsize=(6,6))\n",
    "plt.bar(le.groupby('famsize')['famsize'].count().index,le.groupby('famsize')['G3'].mean())\n",
    "plt.xlabel(\"famsize\",fontsize=12)\n",
    "plt.ylabel(\"Avg Life_Expectancy\",fontsize=12)\n",
    "plt.title(\"Life_Expectancy w.r.t Status\")\n",
    "plt.show()"
   ]
  },
  {
   "cell_type": "code",
   "execution_count": 253,
   "metadata": {},
   "outputs": [
    {
     "data": {
      "text/plain": [
       "(529,)"
      ]
     },
     "execution_count": 253,
     "metadata": {},
     "output_type": "execute_result"
    }
   ],
   "source": [
    "y_train.shape"
   ]
  },
  {
   "cell_type": "code",
   "execution_count": 254,
   "metadata": {},
   "outputs": [
    {
     "data": {
      "text/plain": [
       "(529, 25)"
      ]
     },
     "execution_count": 254,
     "metadata": {},
     "output_type": "execute_result"
    }
   ],
   "source": [
    "X_train.shape"
   ]
  },
  {
   "cell_type": "code",
   "execution_count": 386,
   "metadata": {},
   "outputs": [],
   "source": [
    "# mean squared error\n",
    "mse = np.sum((y_pred - y_test)**2)\n",
    "\n",
    "# root mean squared error\n",
    "# m is the number of training examples\n",
    "rmse = np.sqrt(mse/529)"
   ]
  },
  {
   "cell_type": "code",
   "execution_count": 387,
   "metadata": {},
   "outputs": [
    {
     "data": {
      "text/plain": [
       "2.0679189963226827"
      ]
     },
     "execution_count": 387,
     "metadata": {},
     "output_type": "execute_result"
    }
   ],
   "source": [
    "rmse"
   ]
  },
  {
   "cell_type": "code",
   "execution_count": 351,
   "metadata": {},
   "outputs": [],
   "source": [
    "from sklearn.metrics import mean_squared_error"
   ]
  },
  {
   "cell_type": "code",
   "execution_count": 388,
   "metadata": {},
   "outputs": [
    {
     "name": "stdout",
     "output_type": "stream",
     "text": [
      "Linear Regression MSE on val: 17.0087\n",
      "Linear Regression RMSE on val: 4.1242\n"
     ]
    }
   ],
   "source": [
    "lr_mse = mean_squared_error(y_pred, y_test)\n",
    "lr_rmse = np.sqrt(lr_mse)\n",
    "print(\"Linear Regression MSE on val: %.4f\" %lr_mse)\n",
    "print('Linear Regression RMSE on val: %.4f' % lr_rmse)"
   ]
  },
  {
   "cell_type": "code",
   "execution_count": 389,
   "metadata": {},
   "outputs": [],
   "source": [
    "y_true=y_test"
   ]
  },
  {
   "cell_type": "code",
   "execution_count": 390,
   "metadata": {},
   "outputs": [],
   "source": [
    "def mean_absolute_percentage_error(y_true, y_pred):\n",
    "    y_true, y_pred = np.array(y_true), np.array(y_pred)\n",
    "    return np.mean(np.abs((y_true - y_pred) / y_true)) * 100"
   ]
  },
  {
   "cell_type": "code",
   "execution_count": 355,
   "metadata": {},
   "outputs": [
    {
     "name": "stdout",
     "output_type": "stream",
     "text": [
      "18.27461249290744\n"
     ]
    }
   ],
   "source": [
    "print(mean_absolute_percentage_error(y_true,y_pred))"
   ]
  },
  {
   "cell_type": "code",
   "execution_count": 266,
   "metadata": {},
   "outputs": [
    {
     "data": {
      "text/plain": [
       "Index(['school', 'sex', 'age', 'address', 'famsize', 'Medu', 'Fedu',\n",
       "       'guardian', 'traveltime', 'studytime', 'schoolsup', 'famsup', 'paid',\n",
       "       'activities', 'nursery', 'higher', 'internet', 'famrel', 'freetime',\n",
       "       'goout', 'Dalc', 'Walc', 'health', 'absences', 'G3'],\n",
       "      dtype='object')"
      ]
     },
     "execution_count": 266,
     "metadata": {},
     "output_type": "execute_result"
    }
   ],
   "source": [
    "le.columns"
   ]
  },
  {
   "cell_type": "code",
   "execution_count": 267,
   "metadata": {},
   "outputs": [],
   "source": [
    "df3=le"
   ]
  },
  {
   "cell_type": "code",
   "execution_count": 269,
   "metadata": {},
   "outputs": [
    {
     "data": {
      "text/plain": [
       "Index(['school', 'sex', 'age', 'address', 'famsize', 'guardian', 'traveltime',\n",
       "       'studytime', 'schoolsup', 'famsup', 'paid', 'activities', 'nursery',\n",
       "       'higher', 'internet', 'famrel', 'freetime', 'goout', 'Dalc', 'health',\n",
       "       'G3', 'Pedu'],\n",
       "      dtype='object')"
      ]
     },
     "execution_count": 269,
     "metadata": {},
     "output_type": "execute_result"
    }
   ],
   "source": [
    "df3['Dalc'] = df3['Dalc'] + df3['Walc']\n",
    "#combine mother's education with father's education & call it parent's education\n",
    "df3['Pedu'] = df3['Medu'] + df3['Fedu']\n",
    "# combine goout and absences\n",
    "df3['goout'] = df3['goout'] + df3['absences']\n",
    "df3 = df3.drop(['Walc','Medu','Fedu','absences'],axis=1)\n",
    "df3.columns"
   ]
  },
  {
   "cell_type": "code",
   "execution_count": 356,
   "metadata": {},
   "outputs": [],
   "source": [
    "########"
   ]
  },
  {
   "cell_type": "code",
   "execution_count": 357,
   "metadata": {},
   "outputs": [],
   "source": [
    "df=pd.concat([student_mat,student_por])"
   ]
  },
  {
   "cell_type": "code",
   "execution_count": 359,
   "metadata": {},
   "outputs": [
    {
     "data": {
      "text/plain": [
       "(662, 33)"
      ]
     },
     "execution_count": 359,
     "metadata": {},
     "output_type": "execute_result"
    }
   ],
   "source": [
    "df.shape"
   ]
  },
  {
   "cell_type": "code",
   "execution_count": null,
   "metadata": {},
   "outputs": [],
   "source": []
  },
  {
   "cell_type": "code",
   "execution_count": null,
   "metadata": {},
   "outputs": [],
   "source": []
  },
  {
   "cell_type": "code",
   "execution_count": 361,
   "metadata": {},
   "outputs": [
    {
     "data": {
      "text/plain": [
       "school        object\n",
       "sex           object\n",
       "age            int64\n",
       "address       object\n",
       "famsize       object\n",
       "Pstatus       object\n",
       "Medu           int64\n",
       "Fedu           int64\n",
       "Mjob          object\n",
       "Fjob          object\n",
       "reason        object\n",
       "guardian      object\n",
       "traveltime     int64\n",
       "studytime      int64\n",
       "failures       int64\n",
       "schoolsup     object\n",
       "famsup        object\n",
       "paid          object\n",
       "activities    object\n",
       "nursery       object\n",
       "higher        object\n",
       "internet      object\n",
       "romantic      object\n",
       "famrel         int64\n",
       "freetime       int64\n",
       "goout          int64\n",
       "Dalc           int64\n",
       "Walc           int64\n",
       "health         int64\n",
       "absences       int64\n",
       "G1             int64\n",
       "G2             int64\n",
       "G3             int64\n",
       "dtype: object"
      ]
     },
     "execution_count": 361,
     "metadata": {},
     "output_type": "execute_result"
    }
   ],
   "source": [
    "df.dtypes"
   ]
  },
  {
   "cell_type": "code",
   "execution_count": 360,
   "metadata": {},
   "outputs": [
    {
     "data": {
      "text/plain": [
       "Index(['school', 'sex', 'age', 'address', 'famsize', 'Pstatus', 'Medu', 'Fedu',\n",
       "       'Mjob', 'Fjob', 'reason', 'guardian', 'traveltime', 'studytime',\n",
       "       'failures', 'schoolsup', 'famsup', 'paid', 'activities', 'nursery',\n",
       "       'higher', 'internet', 'romantic', 'famrel', 'freetime', 'goout', 'Dalc',\n",
       "       'Walc', 'health', 'absences', 'G1', 'G2', 'G3'],\n",
       "      dtype='object')"
      ]
     },
     "execution_count": 360,
     "metadata": {},
     "output_type": "execute_result"
    }
   ],
   "source": [
    "df.columns"
   ]
  },
  {
   "cell_type": "code",
   "execution_count": 362,
   "metadata": {},
   "outputs": [
    {
     "data": {
      "text/plain": [
       "school        object\n",
       "sex           object\n",
       "age            int64\n",
       "address       object\n",
       "famsize       object\n",
       "Pstatus       object\n",
       "Medu           int64\n",
       "Fedu           int64\n",
       "Mjob          object\n",
       "Fjob          object\n",
       "reason        object\n",
       "guardian      object\n",
       "traveltime     int64\n",
       "studytime      int64\n",
       "failures       int64\n",
       "schoolsup     object\n",
       "famsup        object\n",
       "paid          object\n",
       "activities    object\n",
       "nursery       object\n",
       "higher        object\n",
       "internet      object\n",
       "romantic      object\n",
       "famrel         int64\n",
       "freetime       int64\n",
       "goout          int64\n",
       "Dalc           int64\n",
       "Walc           int64\n",
       "health         int64\n",
       "absences       int64\n",
       "G1             int64\n",
       "G2             int64\n",
       "G3             int64\n",
       "dtype: object"
      ]
     },
     "execution_count": 362,
     "metadata": {},
     "output_type": "execute_result"
    }
   ],
   "source": [
    "df.dtypes"
   ]
  },
  {
   "cell_type": "code",
   "execution_count": 364,
   "metadata": {},
   "outputs": [],
   "source": [
    "df=df.drop('address',axis=1)"
   ]
  },
  {
   "cell_type": "code",
   "execution_count": 366,
   "metadata": {},
   "outputs": [
    {
     "data": {
      "text/plain": [
       "school        object\n",
       "sex           object\n",
       "age            int64\n",
       "famsize       object\n",
       "Pstatus       object\n",
       "Medu           int64\n",
       "Fedu           int64\n",
       "Mjob          object\n",
       "Fjob          object\n",
       "reason        object\n",
       "guardian      object\n",
       "traveltime     int64\n",
       "studytime      int64\n",
       "failures       int64\n",
       "schoolsup     object\n",
       "famsup        object\n",
       "paid          object\n",
       "activities    object\n",
       "nursery       object\n",
       "higher        object\n",
       "internet      object\n",
       "romantic      object\n",
       "famrel         int64\n",
       "freetime       int64\n",
       "goout          int64\n",
       "Dalc           int64\n",
       "Walc           int64\n",
       "health         int64\n",
       "absences       int64\n",
       "G1             int64\n",
       "G2             int64\n",
       "G3             int64\n",
       "dtype: object"
      ]
     },
     "execution_count": 366,
     "metadata": {},
     "output_type": "execute_result"
    }
   ],
   "source": [
    "df.dtypes"
   ]
  },
  {
   "cell_type": "code",
   "execution_count": 367,
   "metadata": {},
   "outputs": [],
   "source": [
    "cat_cols=['school','sex','famsize',\n",
    "          'Pstatus','guardian','schoolsup','Mjob','Fjob',\n",
    "          'reason','famsup','paid','activities','nursery',\n",
    "          'higher','internet','romantic']"
   ]
  },
  {
   "cell_type": "code",
   "execution_count": 368,
   "metadata": {},
   "outputs": [],
   "source": [
    "df[cat_cols]=df[cat_cols].astype('category')"
   ]
  },
  {
   "cell_type": "code",
   "execution_count": null,
   "metadata": {},
   "outputs": [],
   "source": []
  }
 ],
 "metadata": {
  "kernelspec": {
   "display_name": "Python 3",
   "language": "python",
   "name": "python3"
  },
  "language_info": {
   "codemirror_mode": {
    "name": "ipython",
    "version": 3
   },
   "file_extension": ".py",
   "mimetype": "text/x-python",
   "name": "python",
   "nbconvert_exporter": "python",
   "pygments_lexer": "ipython3",
   "version": "3.7.3"
  }
 },
 "nbformat": 4,
 "nbformat_minor": 2
}
